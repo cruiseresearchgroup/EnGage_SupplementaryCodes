{
 "cells": [
  {
   "cell_type": "code",
   "execution_count": null,
   "metadata": {},
   "outputs": [],
   "source": [
    "import os\n",
    "import pandas as pd\n",
    "import numpy as np\n",
    "import seaborn as sns\n",
    "import warnings\n",
    "import math\n",
    "import matplotlib.pyplot as plt\n",
    "\n",
    "path = 'Raw_wearable_data/'\n",
    "path_class = 'Class_wearable_data1/'\n",
    "path_classtable = 'Participant_class_info/'"
   ]
  },
  {
   "cell_type": "code",
   "execution_count": null,
   "metadata": {
    "scrolled": true
   },
   "outputs": [],
   "source": [
    "# Read class table and participant information\n",
    "class_time = pd.read_csv(path_classtable + 'Class_table.csv')\n",
    "class_room = pd.read_csv(path_classtable + 'Student.csv')\n",
    "teacher_time = pd.read_csv(path_classtable + 'Teacher.csv')\n",
    "class_room.set_index('Pid', inplace = True)"
   ]
  },
  {
   "cell_type": "markdown",
   "metadata": {},
   "source": [
    "# Update data types"
   ]
  },
  {
   "cell_type": "code",
   "execution_count": null,
   "metadata": {
    "code_folding": [
     0
    ]
   },
   "outputs": [],
   "source": [
    "# Update the dataframe with timestamps\n",
    "def convert_time(data):\n",
    "    Sampling = data.iloc[1,0]\n",
    "    data['Date'] = data.iloc[0,0]\n",
    "    data = data[2:]    \n",
    "    Time = np.arange(0, len(data)/Sampling, 1/Sampling)\n",
    "    data['Time'] = Time.tolist()\n",
    "    data.Date = data.Date + data.Time\n",
    "    data.Date = pd.to_datetime(data['Date'], unit='s')\n",
    "    data.Date = data.Date + timedelta(hours=10)\n",
    "    data.reset_index(inplace=True, drop=True)\n",
    "    return data"
   ]
  },
  {
   "cell_type": "code",
   "execution_count": null,
   "metadata": {
    "code_folding": []
   },
   "outputs": [],
   "source": [
    "# Read the date folders save the name of each folder into a list\n",
    "date = []\n",
    "entries = os.scandir(path)\n",
    "for i in entries:\n",
    "    date.append(i.name)"
   ]
  },
  {
   "cell_type": "code",
   "execution_count": null,
   "metadata": {
    "code_folding": [
     2
    ]
   },
   "outputs": [],
   "source": [
    "# Create a temporary folder to save the processed data\n",
    "path1 = 'Processed_wearable_data/'\n",
    "if not os.path.exists(path1):\n",
    "    os.makedirs(path1)"
   ]
  },
  {
   "cell_type": "code",
   "execution_count": null,
   "metadata": {
    "code_folding": []
   },
   "outputs": [],
   "source": [
    "# Process the wearable data save it into the temporary folder\n",
    "def Create_folder(z):\n",
    "    if os.path.isfile(path1 + i + '/' + pid + '/' + fi.name):\n",
    "        df.to_csv(path1 + i + '/' + pid + '/' + fi.name, index=False, mode='a', header=False)\n",
    "    else:\n",
    "        df.to_csv(path1 + i + '/' + pid + '/' + fi.name, index=False)\n",
    "warnings.filterwarnings('ignore')        \n",
    "for i in date:\n",
    "    print('-----------------'+i+'-----------------')\n",
    "    \n",
    "    # Read all records in each day\n",
    "    bands = []\n",
    "    band_entry = os.scandir(path + i)\n",
    "    \n",
    "    # Create the list containing all bands names\n",
    "    for j in band_entry:\n",
    "        if j.name[-3:] == 'zip':\n",
    "            pass\n",
    "        else:\n",
    "            bands.append(j.name)\n",
    "    \n",
    "    # Going Through each file in the bands file\n",
    "    for z in bands:\n",
    "        print(z)\n",
    "        files = os.scandir(path + i + '/' + z)\n",
    "        pid = z[z.find('_')+1:]\n",
    "        os.makedirs(path1 + i + '/' + pid, mode=0o770, exist_ok= True)\n",
    "        for fi in files:\n",
    "            if fi.name == 'info.text':\n",
    "                pass\n",
    "            \n",
    "            elif fi.name == 'tags.csv':\n",
    "                if os.stat(path + i + '/' + z + '/' + fi.name).st_size == 0:\n",
    "                    pass\n",
    "                else:\n",
    "                    df = pd.read_csv(path + i + '/' + z + '/' + fi.name, header=None)\n",
    "                    df[0] = pd.to_datetime(df[0], unit = 's') + timedelta(hours=10)\n",
    "                    df.rename(columns={0:'Tags'}, inplace=True)\n",
    "                    Create_folder(z)\n",
    "\n",
    "            elif fi.name == 'IBI.csv':\n",
    "                if os.stat(path + i + '/' + z + '/' + fi.name).st_size == 0:\n",
    "                    pass\n",
    "                else:\n",
    "                    df = pd.read_csv(path + i + '/' + z + '/' + fi.name, header=None)\n",
    "                    ibi_prim = df[1:]\n",
    "                    ibi_prim[0] = ibi_prim[0] + df[0][0]\n",
    "                    ibi_prim[0] = pd.to_datetime(ibi_prim[0], unit = 's') + timedelta(hours=10)\n",
    "                    ibi_prim.rename(columns={0:'Time', 1:'IBI'}, inplace=True)\n",
    "                    if os.path.isfile(path1 + i + '/' + pid + '/' + fi.name):\n",
    "                        ibi_prim.to_csv(path1 + i + '/' + pid + '/' + fi.name, index=False, mode='a', header=False)\n",
    "                    else:\n",
    "                        ibi_prim.to_csv(path1 + i + '/' + pid + '/' + fi.name, index=False)\n",
    "\n",
    "            elif fi.name =='EDA.csv' :\n",
    "                df = pd.read_csv(path + i + '/' + z + '/' + fi.name, header=None)\n",
    "                df.rename(columns={0:'EDA'}, inplace=True)\n",
    "                df = convert_time(df)\n",
    "                Create_folder(z)\n",
    "                \n",
    "            elif fi.name == 'ACC.csv':\n",
    "                df = pd.read_csv(path + i + '/' + z + '/' + fi.name, header=None)\n",
    "                df.rename(columns = {0:'X',1:'Y',2:'Z'}, inplace=True)\n",
    "                df = convert_time(df)\n",
    "                Create_folder(z)\n",
    "\n",
    "            elif fi.name == 'BVP.csv':\n",
    "                df = pd.read_csv(path + i + '/' + z + '/' + fi.name, header=None)\n",
    "                df.rename(columns = {0:'BVP'}, inplace=True)\n",
    "                df = convert_time(df)\n",
    "                Create_folder(z)\n",
    "\n",
    "            elif fi.name == 'HR.csv':\n",
    "                df = pd.read_csv(path + i + '/' + z + '/' + fi.name, header=None)\n",
    "                df.rename(columns={0:'HR'}, inplace=True)\n",
    "                df = convert_time(df)\n",
    "                Create_folder(z)\n",
    "                        \n",
    "            elif fi.name == 'TEMP.csv':\n",
    "                df = pd.read_csv(path + i + '/' + z + '/' + fi.name, header=None)\n",
    "                df.rename(columns = {0:'TEMP'}, inplace = True)\n",
    "                df = convert_time(df)\n",
    "                Create_folder(z)"
   ]
  },
  {
   "cell_type": "markdown",
   "metadata": {},
   "source": [
    "# Class division"
   ]
  },
  {
   "cell_type": "code",
   "execution_count": null,
   "metadata": {
    "code_folding": [
     1
    ]
   },
   "outputs": [],
   "source": [
    "# Function that compute the class allocation\n",
    "def get_class_room(name, form, math, language, science):\n",
    "    if name == 'Maths':\n",
    "        return math\n",
    "    elif name == 'Language':\n",
    "        return language\n",
    "    elif name == 'Science':\n",
    "        return science\n",
    "    else:\n",
    "        return form\n",
    "def get_class_info(id, date):\n",
    "    classes = pd.DataFrame()\n",
    "    form_r, math_r, language_r = class_room.loc[id][['Form Room', 'Math Room', 'Language Room']]\n",
    "    arrange = class_time[class_time['Date'] == int(date)]\n",
    "    for rowid,row in arrange.iterrows():\n",
    "        room = row['Room']\n",
    "        subject = row['Subject']\n",
    "        if subject == 'Language' and room == language_r:\n",
    "            classes = classes.append(row)\n",
    "        elif subject == 'Maths' and room == math_r:\n",
    "            classes = classes.append(row)\n",
    "        elif subject == 'Assembly' or subject == 'Chapel':\n",
    "            classes = classes.append(row)\n",
    "        elif subject in ['Form', 'English', 'Science', 'Politics', 'PE', 'Health']:\n",
    "            if row['is_Form'] == form_r:\n",
    "                classes = classes.append(row)\n",
    "    classes['Pid'] = id\n",
    "    classes[['Pid','Class_id','Class_no','Date','Week','Weekday']] = classes[\n",
    "        ['Pid','Class_id','Class_no','Date','Week','Weekday']].astype('int')\n",
    "    return classes"
   ]
  },
  {
   "cell_type": "code",
   "execution_count": null,
   "metadata": {
    "code_folding": []
   },
   "outputs": [],
   "source": [
    "# Save all folders with different date into a list\n",
    "Date = []\n",
    "entries = os.scandir(path1)\n",
    "for i in entries:\n",
    "    if len(i.name) == 8:\n",
    "        Date.append(i.name)"
   ]
  },
  {
   "cell_type": "code",
   "execution_count": null,
   "metadata": {},
   "outputs": [],
   "source": [
    "# Divide classes\n",
    "for date in Date:\n",
    "    bands = []\n",
    "    id_bands = os.scandir(path1 + date)\n",
    "    print('------------------Date:' + date + '----------------')\n",
    "    for pid in id_bands:\n",
    "        try:\n",
    "            bands.append(pid.name)\n",
    "        except:\n",
    "            pass\n",
    "    for pid in bands:\n",
    "        print('*********' + 'Student id:' + str(pid))\n",
    "        \n",
    "        # get the time slot for each class\n",
    "        mask = get_class_info(int(pid),date)\n",
    "        \n",
    "        # open the files for student 'pid' on the day 'date'\n",
    "        files = os.scandir(path1 + date +'/'+str(pid))\n",
    "        \n",
    "        for record in files:\n",
    "            if pd.read_csv(path1 + date + '/' + str(pid) + '/' + record.name).empty:\n",
    "                print(record.name +' is empty.')\n",
    "            elif record.name == 'tags.csv':\n",
    "                pass\n",
    "            elif record.name == '.ipynb_checkpoints':\n",
    "                pass\n",
    "            else:\n",
    "                df = pd.read_csv(path1 + date + '/' + str(pid) + '/' + record.name)\n",
    "                print(date + ' ' + str(pid) +' ' + record.name)\n",
    "                if record.name == 'IBI.csv':\n",
    "                    df['Date'] = pd.to_datetime(df.Time).apply(datetime.time)\n",
    "                else:\n",
    "                    df.Date = pd.to_datetime(df.Date).apply(datetime.time)\n",
    "                for w in range(len(mask)):\n",
    "                    class_1 = df[(pd.to_datetime(mask.iloc[w]['Start_time']).time() < df['Date']) &\n",
    "                                (df['Date'] < pd.to_datetime(mask.iloc[w]['Finish_time']).time())]\n",
    "                    if class_1.empty:\n",
    "                        pass\n",
    "                    else:\n",
    "                        save_folder = str(mask.iloc[w]['Class_id'])\n",
    "                        save_file = str(mask.iloc[w]['Pid'])\n",
    "                        os.makedirs(path_class + save_folder + '/' + save_file, exist_ok=True)\n",
    "                        class_1.to_csv(path_class + save_folder + '/' + save_file + '/' + record.name, index=False)\n",
    "                        print('Class: ' + save_folder + '_' + save_file + ' ' + record.name)      "
   ]
  }
 ],
 "metadata": {
  "kernelspec": {
   "display_name": "Python 3",
   "language": "python",
   "name": "python3"
  },
  "language_info": {
   "codemirror_mode": {
    "name": "ipython",
    "version": 3
   },
   "file_extension": ".py",
   "mimetype": "text/x-python",
   "name": "python",
   "nbconvert_exporter": "python",
   "pygments_lexer": "ipython3",
   "version": "3.6.6"
  },
  "toc": {
   "base_numbering": 1,
   "nav_menu": {},
   "number_sections": true,
   "sideBar": true,
   "skip_h1_title": false,
   "title_cell": "Table of Contents",
   "title_sidebar": "Contents",
   "toc_cell": false,
   "toc_position": {},
   "toc_section_display": true,
   "toc_window_display": true
  }
 },
 "nbformat": 4,
 "nbformat_minor": 2
}
